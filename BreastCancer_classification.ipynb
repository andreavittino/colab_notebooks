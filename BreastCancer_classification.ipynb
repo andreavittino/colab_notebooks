{
  "nbformat": 4,
  "nbformat_minor": 0,
  "metadata": {
    "colab": {
      "name": "BreastCancer_classification.ipynb",
      "provenance": [],
      "authorship_tag": "ABX9TyMXZ1GlF/d9DNLULwl4J722",
      "include_colab_link": true
    },
    "kernelspec": {
      "name": "python3",
      "display_name": "Python 3"
    }
  },
  "cells": [
    {
      "cell_type": "markdown",
      "metadata": {
        "id": "view-in-github",
        "colab_type": "text"
      },
      "source": [
        "<a href=\"https://colab.research.google.com/github/andreavittino/colab_notebooks/blob/main/BreastCancer_classification.ipynb\" target=\"_parent\"><img src=\"https://colab.research.google.com/assets/colab-badge.svg\" alt=\"Open In Colab\"/></a>"
      ]
    },
    {
      "cell_type": "code",
      "metadata": {
        "id": "eBJfl15KO1pK"
      },
      "source": [
        "import pandas as pd\n",
        "from sklearn.datasets import load_breast_cancer\n",
        "import matplotlib.pyplot as plt\n",
        "import seaborn as sns"
      ],
      "execution_count": 1,
      "outputs": []
    },
    {
      "cell_type": "code",
      "metadata": {
        "colab": {
          "base_uri": "https://localhost:8080/"
        },
        "id": "Ozn4cyfpO7Qk",
        "outputId": "269824d6-3878-41c6-ce51-40419d71dc45"
      },
      "source": [
        "cancer = load_breast_cancer()\n",
        "cancer.target_names"
      ],
      "execution_count": 2,
      "outputs": [
        {
          "output_type": "execute_result",
          "data": {
            "text/plain": [
              "array(['malignant', 'benign'], dtype='<U9')"
            ]
          },
          "metadata": {
            "tags": []
          },
          "execution_count": 2
        }
      ]
    },
    {
      "cell_type": "code",
      "metadata": {
        "colab": {
          "base_uri": "https://localhost:8080/"
        },
        "id": "j0QVXPoWPBXv",
        "outputId": "39250844-8fc2-4ee5-9e8c-3eb84c484e6c"
      },
      "source": [
        "data_df = pd.DataFrame(data=cancer.data,columns=cancer.feature_names)\n",
        "target_df = pd.Series(cancer.target,name='cancer_type')\n",
        "df = pd.concat([data_df,target_df],axis=1)\n",
        "print(df.head())\n",
        "print(df.info())\n",
        "print(df.describe())\n",
        "print(df['cancer_type'].value_counts())"
      ],
      "execution_count": 3,
      "outputs": [
        {
          "output_type": "stream",
          "text": [
            "   mean radius  mean texture  ...  worst fractal dimension  cancer_type\n",
            "0        17.99         10.38  ...                  0.11890            0\n",
            "1        20.57         17.77  ...                  0.08902            0\n",
            "2        19.69         21.25  ...                  0.08758            0\n",
            "3        11.42         20.38  ...                  0.17300            0\n",
            "4        20.29         14.34  ...                  0.07678            0\n",
            "\n",
            "[5 rows x 31 columns]\n",
            "<class 'pandas.core.frame.DataFrame'>\n",
            "RangeIndex: 569 entries, 0 to 568\n",
            "Data columns (total 31 columns):\n",
            " #   Column                   Non-Null Count  Dtype  \n",
            "---  ------                   --------------  -----  \n",
            " 0   mean radius              569 non-null    float64\n",
            " 1   mean texture             569 non-null    float64\n",
            " 2   mean perimeter           569 non-null    float64\n",
            " 3   mean area                569 non-null    float64\n",
            " 4   mean smoothness          569 non-null    float64\n",
            " 5   mean compactness         569 non-null    float64\n",
            " 6   mean concavity           569 non-null    float64\n",
            " 7   mean concave points      569 non-null    float64\n",
            " 8   mean symmetry            569 non-null    float64\n",
            " 9   mean fractal dimension   569 non-null    float64\n",
            " 10  radius error             569 non-null    float64\n",
            " 11  texture error            569 non-null    float64\n",
            " 12  perimeter error          569 non-null    float64\n",
            " 13  area error               569 non-null    float64\n",
            " 14  smoothness error         569 non-null    float64\n",
            " 15  compactness error        569 non-null    float64\n",
            " 16  concavity error          569 non-null    float64\n",
            " 17  concave points error     569 non-null    float64\n",
            " 18  symmetry error           569 non-null    float64\n",
            " 19  fractal dimension error  569 non-null    float64\n",
            " 20  worst radius             569 non-null    float64\n",
            " 21  worst texture            569 non-null    float64\n",
            " 22  worst perimeter          569 non-null    float64\n",
            " 23  worst area               569 non-null    float64\n",
            " 24  worst smoothness         569 non-null    float64\n",
            " 25  worst compactness        569 non-null    float64\n",
            " 26  worst concavity          569 non-null    float64\n",
            " 27  worst concave points     569 non-null    float64\n",
            " 28  worst symmetry           569 non-null    float64\n",
            " 29  worst fractal dimension  569 non-null    float64\n",
            " 30  cancer_type              569 non-null    int64  \n",
            "dtypes: float64(30), int64(1)\n",
            "memory usage: 137.9 KB\n",
            "None\n",
            "       mean radius  mean texture  ...  worst fractal dimension  cancer_type\n",
            "count   569.000000    569.000000  ...               569.000000   569.000000\n",
            "mean     14.127292     19.289649  ...                 0.083946     0.627417\n",
            "std       3.524049      4.301036  ...                 0.018061     0.483918\n",
            "min       6.981000      9.710000  ...                 0.055040     0.000000\n",
            "25%      11.700000     16.170000  ...                 0.071460     0.000000\n",
            "50%      13.370000     18.840000  ...                 0.080040     1.000000\n",
            "75%      15.780000     21.800000  ...                 0.092080     1.000000\n",
            "max      28.110000     39.280000  ...                 0.207500     1.000000\n",
            "\n",
            "[8 rows x 31 columns]\n",
            "1    357\n",
            "0    212\n",
            "Name: cancer_type, dtype: int64\n"
          ],
          "name": "stdout"
        }
      ]
    },
    {
      "cell_type": "code",
      "metadata": {
        "colab": {
          "base_uri": "https://localhost:8080/",
          "height": 656
        },
        "id": "vyIerDufPDuX",
        "outputId": "7346f0cd-6c09-4dbe-c851-6c91d897869d"
      },
      "source": [
        "plt.figure(figsize=(10,10))\n",
        "plt.imshow(df.corr())\n",
        "plt.colorbar()\n",
        "plt.xticks(range(31),df.columns,rotation = 90)\n",
        "plt.yticks(range(31),df.columns)\n",
        "plt.show()"
      ],
      "execution_count": 4,
      "outputs": [
        {
          "output_type": "display_data",
          "data": {
            "image/png": "[encoded data removed]",
            "text/plain": [
              "<Figure size 720x720 with 2 Axes>"
            ]
          },
          "metadata": {
            "tags": [],
            "needs_background": "light"
          }
        }
      ]
    },
    {
      "cell_type": "markdown",
      "metadata": {
        "id": "bjDhAE3qYx36"
      },
      "source": [
        "# Using a random forest"
      ]
    },
    {
      "cell_type": "markdown",
      "metadata": {
        "id": "p7PSAgZgPgSI"
      },
      "source": [
        "We start with the default parameters"
      ]
    },
    {
      "cell_type": "code",
      "metadata": {
        "id": "P3GBMgI1PUX0"
      },
      "source": [
        "from sklearn.ensemble import RandomForestClassifier\n",
        "from sklearn.model_selection import train_test_split\n",
        "from sklearn.metrics import confusion_matrix\n",
        "from sklearn.metrics import classification_report"
      ],
      "execution_count": 5,
      "outputs": []
    },
    {
      "cell_type": "code",
      "metadata": {
        "id": "9S2vPow6UfOY"
      },
      "source": [
        "rfc = RandomForestClassifier(n_estimators=200,random_state=42)"
      ],
      "execution_count": 6,
      "outputs": []
    },
    {
      "cell_type": "code",
      "metadata": {
        "id": "IIkcGh96UneX"
      },
      "source": [
        "X = df.drop('cancer_type',axis=1)\n",
        "y = df['cancer_type']"
      ],
      "execution_count": 7,
      "outputs": []
    },
    {
      "cell_type": "code",
      "metadata": {
        "id": "zlay0MAiUxQd"
      },
      "source": [
        "X_train, X_test, y_train, y_test = train_test_split(X,y,test_size=0.3,random_state=42)"
      ],
      "execution_count": 8,
      "outputs": []
    },
    {
      "cell_type": "code",
      "metadata": {
        "colab": {
          "base_uri": "https://localhost:8080/"
        },
        "id": "zzJ2TaWVU5IM",
        "outputId": "f26d5a61-a5eb-40d7-ae94-4a9b88900fe3"
      },
      "source": [
        "rfc.fit(X_train,y_train)"
      ],
      "execution_count": 9,
      "outputs": [
        {
          "output_type": "execute_result",
          "data": {
            "text/plain": [
              "RandomForestClassifier(bootstrap=True, ccp_alpha=0.0, class_weight=None,\n",
              "                       criterion='gini', max_depth=None, max_features='auto',\n",
              "                       max_leaf_nodes=None, max_samples=None,\n",
              "                       min_impurity_decrease=0.0, min_impurity_split=None,\n",
              "                       min_samples_leaf=1, min_samples_split=2,\n",
              "                       min_weight_fraction_leaf=0.0, n_estimators=200,\n",
              "                       n_jobs=None, oob_score=False, random_state=42, verbose=0,\n",
              "                       warm_start=False)"
            ]
          },
          "metadata": {
            "tags": []
          },
          "execution_count": 9
        }
      ]
    },
    {
      "cell_type": "markdown",
      "metadata": {
        "id": "bmirMpOJSBFU"
      },
      "source": [
        "ROC curve"
      ]
    },
    {
      "cell_type": "code",
      "metadata": {
        "id": "Cyw5vN9vU8Qj",
        "outputId": "e5ad3b30-17d7-434e-a6ec-8c81a54d7211",
        "colab": {
          "base_uri": "https://localhost:8080/",
          "height": 497
        }
      },
      "source": [
        "y_pred = rfc.predict(X_test)\n",
        "from sklearn.metrics import roc_curve\n",
        "fpr, tpr, thresholds = roc_curve(y_test, rfc.predict_proba(X_test)[:,1])\n",
        "fig = plt.figure(figsize=(8,8))\n",
        "plt.plot(fpr,tpr)\n",
        "plt.xlabel('false positive rate')\n",
        "plt.ylabel('true positive rate')\n",
        "plt.show()"
      ],
      "execution_count": 10,
      "outputs": [
        {
          "output_type": "display_data",
          "data": {
            "image/png": "[encoded data removed]",
            "text/plain": [
              "<Figure size 576x576 with 1 Axes>"
            ]
          },
          "metadata": {
            "tags": [],
            "needs_background": "light"
          }
        }
      ]
    },
    {
      "cell_type": "code",
      "metadata": {
        "colab": {
          "base_uri": "https://localhost:8080/"
        },
        "id": "UqEfwIAaU-eL",
        "outputId": "d9a65f7d-81e8-49d0-a470-758d335ed8c0"
      },
      "source": [
        "rfc.score(X_test,y_test)"
      ],
      "execution_count": 11,
      "outputs": [
        {
          "output_type": "execute_result",
          "data": {
            "text/plain": [
              "0.9707602339181286"
            ]
          },
          "metadata": {
            "tags": []
          },
          "execution_count": 11
        }
      ]
    },
    {
      "cell_type": "markdown",
      "metadata": {
        "id": "xIOhnpcjSEFJ"
      },
      "source": [
        "Confusion matrix"
      ]
    },
    {
      "cell_type": "code",
      "metadata": {
        "colab": {
          "base_uri": "https://localhost:8080/"
        },
        "id": "m30sMg1rVAir",
        "outputId": "999c61d7-4c87-413e-b9a2-f080f75e13e1"
      },
      "source": [
        "print(confusion_matrix(y_test,y_pred))\n",
        "print(classification_report(y_test,y_pred))"
      ],
      "execution_count": 12,
      "outputs": [
        {
          "output_type": "stream",
          "text": [
            "[[ 59   4]\n",
            " [  1 107]]\n",
            "              precision    recall  f1-score   support\n",
            "\n",
            "           0       0.98      0.94      0.96        63\n",
            "           1       0.96      0.99      0.98       108\n",
            "\n",
            "    accuracy                           0.97       171\n",
            "   macro avg       0.97      0.96      0.97       171\n",
            "weighted avg       0.97      0.97      0.97       171\n",
            "\n"
          ],
          "name": "stdout"
        }
      ]
    },
    {
      "cell_type": "code",
      "metadata": {
        "colab": {
          "base_uri": "https://localhost:8080/"
        },
        "id": "f0_MxhfNVJIq",
        "outputId": "74f3b2aa-1ac6-439a-80c4-883d4f28bc14"
      },
      "source": [
        "df_feature_imp = pd.DataFrame({'feature ': X.columns,'importance': rfc.feature_importances_})\n",
        "print(df_feature_imp.sort_values(by='importance',ascending=False).head(10))"
      ],
      "execution_count": 13,
      "outputs": [
        {
          "output_type": "stream",
          "text": [
            "                feature   importance\n",
            "7    mean concave points    0.133574\n",
            "27  worst concave points    0.124374\n",
            "22       worst perimeter    0.116470\n",
            "23            worst area    0.115029\n",
            "20          worst radius    0.069335\n",
            "6         mean concavity    0.066519\n",
            "2         mean perimeter    0.050585\n",
            "3              mean area    0.046917\n",
            "26       worst concavity    0.041539\n",
            "0            mean radius    0.034793\n"
          ],
          "name": "stdout"
        }
      ]
    },
    {
      "cell_type": "markdown",
      "metadata": {
        "id": "MioAVORjP2Bh"
      },
      "source": [
        "We now use cross-validation to do some hyperparameter tuning\n"
      ]
    },
    {
      "cell_type": "code",
      "metadata": {
        "id": "Bwjc2oTUP-Fj"
      },
      "source": [
        "from sklearn.model_selection import RandomizedSearchCV\n",
        "param_dist = {\"n_estimators\" : [50,100,200], 'max_depth' : [None, 8, 16], 'max_features' : [8,16,30]}\n",
        "rs = RandomizedSearchCV(rfc,param_dist,cv=5,random_state=42)"
      ],
      "execution_count": 14,
      "outputs": []
    },
    {
      "cell_type": "code",
      "metadata": {
        "id": "7TNe1oyyQEdS",
        "outputId": "813a7940-8f90-45cb-f243-0bfb0e78ccb6",
        "colab": {
          "base_uri": "https://localhost:8080/"
        }
      },
      "source": [
        "rs.fit(X_train,y_train)"
      ],
      "execution_count": 15,
      "outputs": [
        {
          "output_type": "execute_result",
          "data": {
            "text/plain": [
              "RandomizedSearchCV(cv=5, error_score=nan,\n",
              "                   estimator=RandomForestClassifier(bootstrap=True,\n",
              "                                                    ccp_alpha=0.0,\n",
              "                                                    class_weight=None,\n",
              "                                                    criterion='gini',\n",
              "                                                    max_depth=None,\n",
              "                                                    max_features='auto',\n",
              "                                                    max_leaf_nodes=None,\n",
              "                                                    max_samples=None,\n",
              "                                                    min_impurity_decrease=0.0,\n",
              "                                                    min_impurity_split=None,\n",
              "                                                    min_samples_leaf=1,\n",
              "                                                    min_samples_split=2,\n",
              "                                                    min_weight_fraction_leaf=0.0,\n",
              "                                                    n_estimators=200,\n",
              "                                                    n_jobs=None,\n",
              "                                                    oob_score=False,\n",
              "                                                    random_state=42, verbose=0,\n",
              "                                                    warm_start=False),\n",
              "                   iid='deprecated', n_iter=10, n_jobs=None,\n",
              "                   param_distributions={'max_depth': [None, 8, 16],\n",
              "                                        'max_features': [8, 16, 30],\n",
              "                                        'n_estimators': [50, 100, 200]},\n",
              "                   pre_dispatch='2*n_jobs', random_state=42, refit=True,\n",
              "                   return_train_score=False, scoring=None, verbose=0)"
            ]
          },
          "metadata": {
            "tags": []
          },
          "execution_count": 15
        }
      ]
    },
    {
      "cell_type": "code",
      "metadata": {
        "id": "la_WkGpSQ5zu"
      },
      "source": [
        "rfc_best = rs.best_estimator_"
      ],
      "execution_count": 16,
      "outputs": []
    },
    {
      "cell_type": "code",
      "metadata": {
        "id": "2qJKhZASRBiI",
        "outputId": "90c6cad5-f6c2-4531-e9b1-88f5ec90725e",
        "colab": {
          "base_uri": "https://localhost:8080/"
        }
      },
      "source": [
        "y_pred_best = rfc_best.predict(X_test)\n",
        "print(rfc_best.score(X_test,y_test))"
      ],
      "execution_count": 17,
      "outputs": [
        {
          "output_type": "stream",
          "text": [
            "0.9766081871345029\n"
          ],
          "name": "stdout"
        }
      ]
    },
    {
      "cell_type": "code",
      "metadata": {
        "id": "QLrxp2jORTbH",
        "outputId": "91c2e6e2-ed28-4305-8b32-b0d1b4c3aa33",
        "colab": {
          "base_uri": "https://localhost:8080/"
        }
      },
      "source": [
        "print(confusion_matrix(y_test,y_pred_best))\n",
        "print(classification_report(y_test,y_pred_best))"
      ],
      "execution_count": 18,
      "outputs": [
        {
          "output_type": "stream",
          "text": [
            "[[ 60   3]\n",
            " [  1 107]]\n",
            "              precision    recall  f1-score   support\n",
            "\n",
            "           0       0.98      0.95      0.97        63\n",
            "           1       0.97      0.99      0.98       108\n",
            "\n",
            "    accuracy                           0.98       171\n",
            "   macro avg       0.98      0.97      0.97       171\n",
            "weighted avg       0.98      0.98      0.98       171\n",
            "\n"
          ],
          "name": "stdout"
        }
      ]
    }
  ]
}