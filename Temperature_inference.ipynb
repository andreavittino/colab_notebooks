{
  "nbformat": 4,
  "nbformat_minor": 0,
  "metadata": {
    "colab": {
      "name": "Temperature_inference.ipynb",
      "provenance": [],
      "collapsed_sections": [],
      "authorship_tag": "ABX9TyNrgY4x21VDggBxx05N8606",
      "include_colab_link": true
    },
    "kernelspec": {
      "name": "python3",
      "display_name": "Python 3"
    },
    "accelerator": "GPU"
  },
  "cells": [
    {
      "cell_type": "markdown",
      "metadata": {
        "id": "view-in-github",
        "colab_type": "text"
      },
      "source": [
        "<a href=\"https://colab.research.google.com/github/andreavittino/colab_notebooks/blob/main/Temperature_inference.ipynb\" target=\"_parent\"><img src=\"https://colab.research.google.com/assets/colab-badge.svg\" alt=\"Open In Colab\"/></a>"
      ]
    },
    {
      "cell_type": "markdown",
      "metadata": {
        "id": "gFvvOKH0gDHJ"
      },
      "source": [
        "We consider here a weather forecasting problem, where we consider a time series of 14 quantities measured every 10 minutes in the 2009-2016 period. We will try to preict the temperature for 24 hours after the last data points by using RNN. \n",
        "\n",
        "What we do here is largely based on Chap. 6 of the book \"Deep learning with Python\" by F. Chollet"
      ]
    },
    {
      "cell_type": "code",
      "metadata": {
        "id": "EhpG30BDeY4t",
        "outputId": "bed22003-bdcf-415e-e0f2-9212735d3b2e",
        "colab": {
          "base_uri": "https://localhost:8080/",
          "height": 204
        }
      },
      "source": [
        "!wget https://s3.amazonaws.com/keras-datasets/jena_climate_2009_2016.csv.zip"
      ],
      "execution_count": null,
      "outputs": [
        {
          "output_type": "stream",
          "text": [
            "--2020-10-22 17:35:10--  https://s3.amazonaws.com/keras-datasets/jena_climate_2009_2016.csv.zip\n",
            "Resolving s3.amazonaws.com (s3.amazonaws.com)... 52.217.80.246\n",
            "Connecting to s3.amazonaws.com (s3.amazonaws.com)|52.217.80.246|:443... connected.\n",
            "HTTP request sent, awaiting response... 200 OK\n",
            "Length: 13568290 (13M) [application/zip]\n",
            "Saving to: ‘jena_climate_2009_2016.csv.zip.3’\n",
            "\n",
            "jena_climate_2009_2 100%[===================>]  12.94M  17.9MB/s    in 0.7s    \n",
            "\n",
            "2020-10-22 17:35:11 (17.9 MB/s) - ‘jena_climate_2009_2016.csv.zip.3’ saved [13568290/13568290]\n",
            "\n"
          ],
          "name": "stdout"
        }
      ]
    },
    {
      "cell_type": "code",
      "metadata": {
        "id": "7s_19yH5eim5"
      },
      "source": [
        "import os \n",
        "import zipfile\n",
        "local_zip = 'jena_climate_2009_2016.csv.zip'\n",
        "zip_ref = zipfile.ZipFile(local_zip, 'r')\n",
        "zip_ref.extractall()\n",
        "zip_ref.close()"
      ],
      "execution_count": null,
      "outputs": []
    },
    {
      "cell_type": "code",
      "metadata": {
        "id": "n6I6hY3Pey1h",
        "outputId": "2d3dbb24-58e4-40fa-b778-43d8973c7931",
        "colab": {
          "base_uri": "https://localhost:8080/",
          "height": 71
        }
      },
      "source": [
        "fname = 'jena_climate_2009_2016.csv'\n",
        "f = open(fname)\n",
        "data = f.read()\n",
        "f.close()\n",
        "lines = data.split('\\n')\n",
        "header = lines[0].split(',')\n",
        "lines = lines[1:]\n",
        "print(header)\n",
        "print(len(lines))"
      ],
      "execution_count": null,
      "outputs": [
        {
          "output_type": "stream",
          "text": [
            "['\"Date Time\"', '\"p (mbar)\"', '\"T (degC)\"', '\"Tpot (K)\"', '\"Tdew (degC)\"', '\"rh (%)\"', '\"VPmax (mbar)\"', '\"VPact (mbar)\"', '\"VPdef (mbar)\"', '\"sh (g/kg)\"', '\"H2OC (mmol/mol)\"', '\"rho (g/m**3)\"', '\"wv (m/s)\"', '\"max. wv (m/s)\"', '\"wd (deg)\"']\n",
            "420551\n"
          ],
          "name": "stdout"
        }
      ]
    },
    {
      "cell_type": "code",
      "metadata": {
        "id": "ipeVnYW6fV_5"
      },
      "source": [
        "# parsing the data\n",
        "import numpy as np\n",
        "float_data = np.zeros((len(lines), len(header) - 1))\n",
        "for i, line in enumerate(lines):\n",
        "  values = [float(x) for x in line.split(',')[1:]] \n",
        "  float_data[i, :] = values"
      ],
      "execution_count": null,
      "outputs": []
    },
    {
      "cell_type": "code",
      "metadata": {
        "id": "6Tm4ly_6hdTS",
        "outputId": "2384827b-2da6-465f-9b66-cf995ad6f77f",
        "colab": {
          "base_uri": "https://localhost:8080/",
          "height": 34
        }
      },
      "source": [
        "float_data.shape"
      ],
      "execution_count": null,
      "outputs": [
        {
          "output_type": "execute_result",
          "data": {
            "text/plain": [
              "(420551, 14)"
            ]
          },
          "metadata": {
            "tags": []
          },
          "execution_count": 5
        }
      ]
    },
    {
      "cell_type": "code",
      "metadata": {
        "id": "OMjuOeyvhfBS",
        "outputId": "de164b80-810b-403a-d24f-d0023745df46",
        "colab": {
          "base_uri": "https://localhost:8080/",
          "height": 394
        }
      },
      "source": [
        "import matplotlib.pyplot as plt\n",
        "fig, ax = plt.subplots(nrows = 2, ncols = 1, figsize=(10,6))\n",
        "temp = float_data[:,1]\n",
        "ax[0].plot(range(len(temp)),temp) # full dataset\n",
        "ax[1].plot(range(1440),temp[-1440:]) # last ten days"
      ],
      "execution_count": null,
      "outputs": [
        {
          "output_type": "execute_result",
          "data": {
            "text/plain": [
              "[<matplotlib.lines.Line2D at 0x7fc4c1130518>]"
            ]
          },
          "metadata": {
            "tags": []
          },
          "execution_count": 6
        },
        {
          "output_type": "display_data",
          "data": {
            "image/png": "[encoded data removed]",
            "text/plain": [
              "<Figure size 720x432 with 2 Axes>"
            ]
          },
          "metadata": {
            "tags": [],
            "needs_background": "light"
          }
        }
      ]
    },
    {
      "cell_type": "code",
      "metadata": {
        "id": "owolCaKaCQKF"
      },
      "source": [
        "train_size = 200000\n",
        "train_set = float_data[0:train_size]\n",
        "train_mean = train_set.mean(axis=0)\n",
        "train_std = train_set.std(axis=0)"
      ],
      "execution_count": null,
      "outputs": []
    },
    {
      "cell_type": "code",
      "metadata": {
        "id": "y2UmOpmTDis0"
      },
      "source": [
        "def generator(data, lookback, delay, min_index, max_index, shuffle=False, batch_size=128, step=6):\n",
        "  if max_index is None:\n",
        "    max_index = len(data) - delay - 1\n",
        "  i = min_index + lookback\n",
        "  while 1:\n",
        "    if shuffle:\n",
        "      rows = np.random.randint(min_index + lookback, max_index, size=batch_size)\n",
        "    else:\n",
        "      if i + batch_size >= max_index:\n",
        "        i = min_index + lookback\n",
        "      rows = np.arange(i, min(i + batch_size, max_index)) \n",
        "      i += len(rows)\n",
        "    samples = np.zeros((len(rows), lookback // step,data.shape[-1])) \n",
        "    targets = np.zeros((len(rows),))\n",
        "    for j, row in enumerate(rows):\n",
        "      indices = range(rows[j] - lookback, rows[j], step) \n",
        "      samples[j] = data[indices]\n",
        "      targets[j] = data[rows[j] + delay][1]\n",
        "    yield samples, targets"
      ],
      "execution_count": null,
      "outputs": []
    },
    {
      "cell_type": "code",
      "metadata": {
        "id": "esN9AKtjFkMT"
      },
      "source": [
        "float_data = (float_data - train_mean)/train_std\n",
        "lookback = 1440 #observations go back 5 days\n",
        "step = 6   #temperatures are sampled every hour\n",
        "delay = 144 #targets are 24 hours in the future\n",
        "batch_size = 128\n",
        "train_gen = generator(float_data, lookback=lookback, delay=delay, min_index=0, max_index=200000, shuffle=True, step=step,batch_size=batch_size)\n",
        "val_gen = generator(float_data,lookback=lookback,delay=delay, min_index=200001,max_index=300000, step=step, batch_size=batch_size)\n",
        "test_gen = generator(float_data, lookback=lookback, delay=delay, min_index=300001, max_index=None,step=step, batch_size=batch_size)\n",
        "val_steps = (300000 - 200001 - lookback)\n",
        "test_steps = (len(float_data) - 300001 - lookback)"
      ],
      "execution_count": null,
      "outputs": []
    },
    {
      "cell_type": "markdown",
      "metadata": {
        "id": "llE2qysTELxZ"
      },
      "source": [
        "# A non-machine learning baseline\n",
        "Before applying any machine learning framework, we focus on a very simple, non-machine learning approach, which will represent our baseline. This simple model is based on the assumption that the temperature is periodic, with a 24-hour period."
      ]
    },
    {
      "cell_type": "code",
      "metadata": {
        "id": "Y5cXZe8-wxZU",
        "outputId": "c905ef77-56dd-4482-8216-f83ea11e27eb",
        "colab": {
          "base_uri": "https://localhost:8080/",
          "height": 69
        }
      },
      "source": [
        "\"\"\"\n",
        "def evaluate_naive_method():\n",
        "  batch_maes = []\n",
        "  for step in range(val_steps):\n",
        "    samples, targets = next(val_gen)\n",
        "    preds = samples[:, -1, 1]\n",
        "    mae = np.mean(np.abs(preds - targets)) \n",
        "    batch_maes.append(mae)\n",
        "  print(np.mean(batch_maes)) \n",
        "evaluate_naive_method()\n",
        "\"\"\""
      ],
      "execution_count": null,
      "outputs": [
        {
          "output_type": "execute_result",
          "data": {
            "application/vnd.google.colaboratory.intrinsic+json": {
              "type": "string"
            },
            "text/plain": [
              "'\\ndef evaluate_naive_method():\\n  batch_maes = []\\n  for step in range(val_steps):\\n    samples, targets = next(val_gen)\\n    preds = samples[:, -1, 1]\\n    mae = np.mean(np.abs(preds - targets)) \\n    batch_maes.append(mae)\\n  print(np.mean(batch_maes)) \\nevaluate_naive_method()\\n'"
            ]
          },
          "metadata": {
            "tags": []
          },
          "execution_count": 10
        }
      ]
    },
    {
      "cell_type": "markdown",
      "metadata": {
        "id": "-xqAEYIPE9st"
      },
      "source": [
        "The method above gives a mean average error of 0.29, which we can translate back into degrees (by taking into account how we have rescaled temperatures to have mean 0 and standard deviation 1)"
      ]
    },
    {
      "cell_type": "code",
      "metadata": {
        "id": "d_PYAQdr1tNc"
      },
      "source": [
        "#celsius_mae = 0.29 * train_std[1]\n",
        "#print(celsius_mae)"
      ],
      "execution_count": null,
      "outputs": []
    },
    {
      "cell_type": "code",
      "metadata": {
        "id": "fsySK1509QtT"
      },
      "source": [
        "import tensorflow as tf \n",
        "model = tf.keras.models.Sequential([\n",
        "                                    tf.keras.layers.Flatten(input_shape=(lookback // step, float_data.shape[-1])),\n",
        "                                    tf.keras.layers.Dense(32,activation='relu'),\n",
        "                                    tf.keras.layers.Dense(1)\n",
        "])                                  "
      ],
      "execution_count": null,
      "outputs": []
    },
    {
      "cell_type": "code",
      "metadata": {
        "id": "7FYZeE7pMCEU",
        "outputId": "692c436a-e5d2-4ba3-c0a9-1336b84e60df",
        "colab": {
          "base_uri": "https://localhost:8080/",
          "height": 697
        }
      },
      "source": [
        "model.compile(optimizer='adam',loss='mae')\n",
        "history = model.fit(train_gen,\n",
        "                              steps_per_epoch = 500,\n",
        "                              epochs=20,\n",
        "                              validation_data=val_gen,\n",
        "                              validation_steps=val_steps)"
      ],
      "execution_count": null,
      "outputs": [
        {
          "output_type": "stream",
          "text": [
            "Epoch 1/20\n",
            "500/500 [==============================] - 795s 2s/step - loss: 0.4976 - val_loss: 0.3768\n",
            "Epoch 2/20\n",
            "500/500 [==============================] - 775s 2s/step - loss: 0.3044 - val_loss: 0.3352\n",
            "Epoch 3/20\n",
            "500/500 [==============================] - 766s 2s/step - loss: 0.2425 - val_loss: 0.3233\n",
            "Epoch 4/20\n",
            "500/500 [==============================] - 785s 2s/step - loss: 0.2188 - val_loss: 0.3232\n",
            "Epoch 5/20\n",
            "500/500 [==============================] - 772s 2s/step - loss: 0.2021 - val_loss: 0.3223\n",
            "Epoch 6/20\n",
            "500/500 [==============================] - 809s 2s/step - loss: 0.1918 - val_loss: 0.3234\n",
            "Epoch 7/20\n",
            "500/500 [==============================] - 758s 2s/step - loss: 0.1845 - val_loss: 0.3332\n",
            "Epoch 8/20\n",
            "500/500 [==============================] - 748s 1s/step - loss: 0.1780 - val_loss: 0.3347\n",
            "Epoch 9/20\n",
            "500/500 [==============================] - 748s 1s/step - loss: 0.1736 - val_loss: 0.3436\n",
            "Epoch 10/20\n",
            "500/500 [==============================] - 740s 1s/step - loss: 0.1693 - val_loss: 0.3371\n",
            "Epoch 11/20\n",
            "500/500 [==============================] - 747s 1s/step - loss: 0.1659 - val_loss: 0.3537\n",
            "Epoch 12/20\n",
            "500/500 [==============================] - 773s 2s/step - loss: 0.1592 - val_loss: 0.3420\n",
            "Epoch 13/20\n",
            "500/500 [==============================] - 748s 1s/step - loss: 0.1575 - val_loss: 0.3502\n",
            "Epoch 14/20\n",
            "500/500 [==============================] - 770s 2s/step - loss: 0.1531 - val_loss: 0.3528\n",
            "Epoch 15/20\n",
            "500/500 [==============================] - 821s 2s/step - loss: 0.1505 - val_loss: 0.3499\n",
            "Epoch 16/20\n",
            "500/500 [==============================] - 851s 2s/step - loss: 0.1474 - val_loss: 0.3522\n",
            "Epoch 17/20\n",
            "500/500 [==============================] - 855s 2s/step - loss: 0.1458 - val_loss: 0.3599\n",
            "Epoch 18/20\n",
            "500/500 [==============================] - 859s 2s/step - loss: 0.1430 - val_loss: 0.3496\n",
            "Epoch 19/20\n",
            "500/500 [==============================] - 860s 2s/step - loss: 0.1386 - val_loss: 0.3701\n",
            "Epoch 20/20\n",
            "500/500 [==============================] - 812s 2s/step - loss: 0.1387 - val_loss: 0.3562\n"
          ],
          "name": "stdout"
        }
      ]
    },
    {
      "cell_type": "code",
      "metadata": {
        "id": "RY4MUFz0OYLv"
      },
      "source": [
        ""
      ],
      "execution_count": null,
      "outputs": []
    },
    {
      "cell_type": "code",
      "metadata": {
        "id": "Q1Gy4852PAhF"
      },
      "source": [
        ""
      ],
      "execution_count": null,
      "outputs": []
    }
  ]
}