{
  "nbformat": 4,
  "nbformat_minor": 0,
  "metadata": {
    "colab": {
      "name": "CNN_SpamDetection.ipynb",
      "provenance": [],
      "authorship_tag": "ABX9TyPV36p+qWJJ13N7iOJWU+S4",
      "include_colab_link": true
    },
    "kernelspec": {
      "name": "python3",
      "display_name": "Python 3"
    }
  },
  "cells": [
    {
      "cell_type": "markdown",
      "metadata": {
        "id": "view-in-github",
        "colab_type": "text"
      },
      "source": [
        "<a href=\"https://colab.research.google.com/github/andreavittino/colab_notebooks/blob/main/CNN_SpamDetection.ipynb\" target=\"_parent\"><img src=\"https://colab.research.google.com/assets/colab-badge.svg\" alt=\"Open In Colab\"/></a>"
      ]
    },
    {
      "cell_type": "code",
      "metadata": {
        "id": "HjFnbf3RZGy_"
      },
      "source": [
        "import tensorflow as tf\n",
        "import pandas as pd\n",
        "import numpy as np\n",
        "import matplotlib.pyplot as plt\n",
        "from sklearn.model_selection import train_test_split"
      ],
      "execution_count": 1,
      "outputs": []
    },
    {
      "cell_type": "code",
      "metadata": {
        "id": "1n42kWB3ZUCX",
        "outputId": "e217e90f-e06e-41ce-f0f8-7f7487ccd24d",
        "colab": {
          "base_uri": "https://localhost:8080/",
          "height": 51
        }
      },
      "source": [
        "# We download the data\n",
        "!wget -nc https://lazyprogrammer.me/course_files/spam.csv"
      ],
      "execution_count": 2,
      "outputs": [
        {
          "output_type": "stream",
          "text": [
            "File ‘spam.csv’ already there; not retrieving.\n",
            "\n"
          ],
          "name": "stdout"
        }
      ]
    },
    {
      "cell_type": "code",
      "metadata": {
        "id": "qRA3zJhDZYdU",
        "outputId": "6da814bd-6ad8-4b6b-ebbe-d13f3ad23d9c",
        "colab": {
          "base_uri": "https://localhost:8080/",
          "height": 204
        }
      },
      "source": [
        "# We load the content of the csv input file into a pandas dataframe\n",
        "df = pd.read_csv('spam.csv', encoding='ISO-8859-1')\n",
        "df.head()"
      ],
      "execution_count": 3,
      "outputs": [
        {
          "output_type": "execute_result",
          "data": {
            "text/html": [
              "<div>\n",
              "<style scoped>\n",
              "    .dataframe tbody tr th:only-of-type {\n",
              "        vertical-align: middle;\n",
              "    }\n",
              "\n",
              "    .dataframe tbody tr th {\n",
              "        vertical-align: top;\n",
              "    }\n",
              "\n",
              "    .dataframe thead th {\n",
              "        text-align: right;\n",
              "    }\n",
              "</style>\n",
              "<table border=\"1\" class=\"dataframe\">\n",
              "  <thead>\n",
              "    <tr style=\"text-align: right;\">\n",
              "      <th></th>\n",
              "      <th>v1</th>\n",
              "      <th>v2</th>\n",
              "      <th>Unnamed: 2</th>\n",
              "      <th>Unnamed: 3</th>\n",
              "      <th>Unnamed: 4</th>\n",
              "    </tr>\n",
              "  </thead>\n",
              "  <tbody>\n",
              "    <tr>\n",
              "      <th>0</th>\n",
              "      <td>ham</td>\n",
              "      <td>Go until jurong point, crazy.. Available only ...</td>\n",
              "      <td>NaN</td>\n",
              "      <td>NaN</td>\n",
              "      <td>NaN</td>\n",
              "    </tr>\n",
              "    <tr>\n",
              "      <th>1</th>\n",
              "      <td>ham</td>\n",
              "      <td>Ok lar... Joking wif u oni...</td>\n",
              "      <td>NaN</td>\n",
              "      <td>NaN</td>\n",
              "      <td>NaN</td>\n",
              "    </tr>\n",
              "    <tr>\n",
              "      <th>2</th>\n",
              "      <td>spam</td>\n",
              "      <td>Free entry in 2 a wkly comp to win FA Cup fina...</td>\n",
              "      <td>NaN</td>\n",
              "      <td>NaN</td>\n",
              "      <td>NaN</td>\n",
              "    </tr>\n",
              "    <tr>\n",
              "      <th>3</th>\n",
              "      <td>ham</td>\n",
              "      <td>U dun say so early hor... U c already then say...</td>\n",
              "      <td>NaN</td>\n",
              "      <td>NaN</td>\n",
              "      <td>NaN</td>\n",
              "    </tr>\n",
              "    <tr>\n",
              "      <th>4</th>\n",
              "      <td>ham</td>\n",
              "      <td>Nah I don't think he goes to usf, he lives aro...</td>\n",
              "      <td>NaN</td>\n",
              "      <td>NaN</td>\n",
              "      <td>NaN</td>\n",
              "    </tr>\n",
              "  </tbody>\n",
              "</table>\n",
              "</div>"
            ],
            "text/plain": [
              "     v1  ... Unnamed: 4\n",
              "0   ham  ...        NaN\n",
              "1   ham  ...        NaN\n",
              "2  spam  ...        NaN\n",
              "3   ham  ...        NaN\n",
              "4   ham  ...        NaN\n",
              "\n",
              "[5 rows x 5 columns]"
            ]
          },
          "metadata": {
            "tags": []
          },
          "execution_count": 3
        }
      ]
    },
    {
      "cell_type": "code",
      "metadata": {
        "id": "rQjoLfHhZb5D",
        "outputId": "84a6cbf6-7049-478a-a4ab-5a36b213279c",
        "colab": {
          "base_uri": "https://localhost:8080/",
          "height": 204
        }
      },
      "source": [
        "# We discard the unnecessary columns and change the name of the remaining ones\n",
        "df.drop(['Unnamed: 2', 'Unnamed: 3', 'Unnamed: 4'],axis = 1,inplace=True)\n",
        "df.columns = ['label','text']\n",
        "df.head()"
      ],
      "execution_count": 4,
      "outputs": [
        {
          "output_type": "execute_result",
          "data": {
            "text/html": [
              "<div>\n",
              "<style scoped>\n",
              "    .dataframe tbody tr th:only-of-type {\n",
              "        vertical-align: middle;\n",
              "    }\n",
              "\n",
              "    .dataframe tbody tr th {\n",
              "        vertical-align: top;\n",
              "    }\n",
              "\n",
              "    .dataframe thead th {\n",
              "        text-align: right;\n",
              "    }\n",
              "</style>\n",
              "<table border=\"1\" class=\"dataframe\">\n",
              "  <thead>\n",
              "    <tr style=\"text-align: right;\">\n",
              "      <th></th>\n",
              "      <th>label</th>\n",
              "      <th>text</th>\n",
              "    </tr>\n",
              "  </thead>\n",
              "  <tbody>\n",
              "    <tr>\n",
              "      <th>0</th>\n",
              "      <td>ham</td>\n",
              "      <td>Go until jurong point, crazy.. Available only ...</td>\n",
              "    </tr>\n",
              "    <tr>\n",
              "      <th>1</th>\n",
              "      <td>ham</td>\n",
              "      <td>Ok lar... Joking wif u oni...</td>\n",
              "    </tr>\n",
              "    <tr>\n",
              "      <th>2</th>\n",
              "      <td>spam</td>\n",
              "      <td>Free entry in 2 a wkly comp to win FA Cup fina...</td>\n",
              "    </tr>\n",
              "    <tr>\n",
              "      <th>3</th>\n",
              "      <td>ham</td>\n",
              "      <td>U dun say so early hor... U c already then say...</td>\n",
              "    </tr>\n",
              "    <tr>\n",
              "      <th>4</th>\n",
              "      <td>ham</td>\n",
              "      <td>Nah I don't think he goes to usf, he lives aro...</td>\n",
              "    </tr>\n",
              "  </tbody>\n",
              "</table>\n",
              "</div>"
            ],
            "text/plain": [
              "  label                                               text\n",
              "0   ham  Go until jurong point, crazy.. Available only ...\n",
              "1   ham                      Ok lar... Joking wif u oni...\n",
              "2  spam  Free entry in 2 a wkly comp to win FA Cup fina...\n",
              "3   ham  U dun say so early hor... U c already then say...\n",
              "4   ham  Nah I don't think he goes to usf, he lives aro..."
            ]
          },
          "metadata": {
            "tags": []
          },
          "execution_count": 4
        }
      ]
    },
    {
      "cell_type": "code",
      "metadata": {
        "id": "RnKU4V9gZtVw"
      },
      "source": [
        "# We map the label column into [0,1]\n",
        "df['label_mapped'] = df['label'].map({'ham':0, 'spam':1})\n",
        "Y = df['label_mapped'].values"
      ],
      "execution_count": 5,
      "outputs": []
    },
    {
      "cell_type": "code",
      "metadata": {
        "id": "igQq2hXAapt9"
      },
      "source": [
        "# We perform the train-test split\n",
        "X_train, X_test, Y_train, Y_test = train_test_split(df['text'],Y,test_size = 0.3)"
      ],
      "execution_count": 6,
      "outputs": []
    },
    {
      "cell_type": "code",
      "metadata": {
        "id": "zqQzgylCaGqm",
        "outputId": "26a95c9a-4c6a-47f4-9013-9f8b7a886e44",
        "colab": {
          "base_uri": "https://localhost:8080/",
          "height": 51
        }
      },
      "source": [
        "# We tokenize the text and create the train and test sequences\n",
        "vocab_size = 10000\n",
        "tokenizer = tf.keras.preprocessing.text.Tokenizer(num_words=vocab_size)\n",
        "tokenizer.fit_on_texts(X_train)\n",
        "seq_train = tokenizer.texts_to_sequences(X_train)  \n",
        "seq_test = tokenizer.texts_to_sequences(X_test)\n",
        "W = len(tokenizer.word_index)\n",
        "print(\"number of unique words: {}\".format(W))\n",
        "# We pad the two sequences\n",
        "seq_train_padded = tf.keras.preprocessing.sequence.pad_sequences(seq_train, padding='pre')\n",
        "L = seq_train_padded.shape[1]\n",
        "print(\"Length of the padded sequence: {}\".format(L))\n",
        "seq_test_padded = tf.keras.preprocessing.sequence.pad_sequences(seq_test,maxlen = L, padding='pre')"
      ],
      "execution_count": 7,
      "outputs": [
        {
          "output_type": "stream",
          "text": [
            "number of unique words: 7392\n",
            "Length of the padded sequence: 162\n"
          ],
          "name": "stdout"
        }
      ]
    },
    {
      "cell_type": "code",
      "metadata": {
        "id": "WyESw0TPbfjb"
      },
      "source": [
        "# We create the model \n",
        "D = 20 # this is the embeding dimensionality\n",
        "model = tf.keras.models.Sequential([\n",
        "                                    tf.keras.layers.Input(shape=(L,)),\n",
        "                                    tf.keras.layers.Embedding(W+1,D),\n",
        "                                    tf.keras.layers.Conv1D(32,kernel_size=2,activation='relu'),\n",
        "                                    tf.keras.layers.MaxPool1D(),\n",
        "                                    tf.keras.layers.Conv1D(64,kernel_size=2,activation='relu'),\n",
        "                                    tf.keras.layers.MaxPool1D(),\n",
        "                                    tf.keras.layers.Conv1D(128,2,activation='relu'),\n",
        "                                    tf.keras.layers.GlobalMaxPooling1D(),\n",
        "                                    tf.keras.layers.Dense(1,activation='sigmoid')\n",
        "])"
      ],
      "execution_count": 8,
      "outputs": []
    },
    {
      "cell_type": "code",
      "metadata": {
        "id": "tNwFaizUdr4B",
        "outputId": "684ca006-850c-421b-b58c-aaf38b2f7ffa",
        "colab": {
          "base_uri": "https://localhost:8080/",
          "height": 357
        }
      },
      "source": [
        "# We compile and fit the model\n",
        "model.compile(optimizer='adam',loss='binary_crossentropy',metrics=['accuracy'])\n",
        "r = model.fit(seq_train_padded,Y_train,validation_data=(seq_test_padded,Y_test),epochs=10)"
      ],
      "execution_count": 9,
      "outputs": [
        {
          "output_type": "stream",
          "text": [
            "Epoch 1/10\n",
            "122/122 [==============================] - 3s 23ms/step - loss: 0.3889 - accuracy: 0.8659 - val_loss: 0.2997 - val_accuracy: 0.8660\n",
            "Epoch 2/10\n",
            "122/122 [==============================] - 3s 21ms/step - loss: 0.1795 - accuracy: 0.9282 - val_loss: 0.0814 - val_accuracy: 0.9779\n",
            "Epoch 3/10\n",
            "122/122 [==============================] - 3s 21ms/step - loss: 0.0229 - accuracy: 0.9923 - val_loss: 0.0608 - val_accuracy: 0.9844\n",
            "Epoch 4/10\n",
            "122/122 [==============================] - 3s 21ms/step - loss: 0.0052 - accuracy: 0.9992 - val_loss: 0.0574 - val_accuracy: 0.9856\n",
            "Epoch 5/10\n",
            "122/122 [==============================] - 3s 21ms/step - loss: 0.0023 - accuracy: 0.9995 - val_loss: 0.0837 - val_accuracy: 0.9827\n",
            "Epoch 6/10\n",
            "122/122 [==============================] - 3s 21ms/step - loss: 0.0014 - accuracy: 0.9997 - val_loss: 0.0633 - val_accuracy: 0.9856\n",
            "Epoch 7/10\n",
            "122/122 [==============================] - 3s 21ms/step - loss: 0.0011 - accuracy: 0.9997 - val_loss: 0.0767 - val_accuracy: 0.9833\n",
            "Epoch 8/10\n",
            "122/122 [==============================] - 3s 21ms/step - loss: 5.4048e-04 - accuracy: 0.9997 - val_loss: 0.0757 - val_accuracy: 0.9856\n",
            "Epoch 9/10\n",
            "122/122 [==============================] - 3s 21ms/step - loss: 3.2626e-04 - accuracy: 1.0000 - val_loss: 0.0779 - val_accuracy: 0.9856\n",
            "Epoch 10/10\n",
            "122/122 [==============================] - 3s 21ms/step - loss: 1.9795e-04 - accuracy: 1.0000 - val_loss: 0.0781 - val_accuracy: 0.9868\n"
          ],
          "name": "stdout"
        }
      ]
    },
    {
      "cell_type": "code",
      "metadata": {
        "id": "e1MIdsIleAFb",
        "outputId": "3dfcbdfe-3b8c-4359-9059-87ff92be1269",
        "colab": {
          "base_uri": "https://localhost:8080/",
          "height": 483
        }
      },
      "source": [
        "fig, ax = plt.subplots(nrows=2,ncols=1,figsize=(10,8),sharex=True)\n",
        "ax[0].plot(r.history['val_loss'], label = 'validation loss')\n",
        "ax[0].plot(r.history['loss'], label = 'training loss')\n",
        "ax[0].legend()\n",
        "ax[1].plot(r.history['val_accuracy'],label = 'validation accuracy')\n",
        "ax[1].plot(r.history['accuracy'],label = 'training accuracy')\n",
        "ax[1].legend()\n",
        "ax[0].grid()\n",
        "ax[1].grid()"
      ],
      "execution_count": 10,
      "outputs": [
        {
          "output_type": "display_data",
          "data": {
            "image/png": "[encoded data removed]",
            "text/plain": [
              "<Figure size 720x576 with 2 Axes>"
            ]
          },
          "metadata": {
            "tags": [],
            "needs_background": "light"
          }
        }
      ]
    },
    {
      "cell_type": "code",
      "metadata": {
        "id": "sN2SAEQjeK7V"
      },
      "source": [
        ""
      ],
      "execution_count": 10,
      "outputs": []
    }
  ]
}